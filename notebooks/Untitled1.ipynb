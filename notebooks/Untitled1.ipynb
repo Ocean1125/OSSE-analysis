{
 "cells": [
  {
   "cell_type": "code",
   "execution_count": 1,
   "id": "e0f1b218-3e14-44b9-bcab-3d7e05808a1f",
   "metadata": {},
   "outputs": [],
   "source": [
    "from dask.distributed import Client, LocalCluster\n",
    "cluster = LocalCluster()\n",
    "client = Client(cluster)\n"
   ]
  },
  {
   "cell_type": "code",
   "execution_count": 2,
   "id": "4934c3c1-45bc-48de-8d03-bf099e7f9ddd",
   "metadata": {},
   "outputs": [
    {
     "name": "stdout",
     "output_type": "stream",
     "text": [
      "<Client: 'tcp://127.0.0.1:38125' processes=2 threads=2, memory=5.62 GiB>\n"
     ]
    }
   ],
   "source": [
    "print(client)"
   ]
  },
  {
   "cell_type": "code",
   "execution_count": 4,
   "id": "38915663-caa8-4945-8c3b-69c79aa54651",
   "metadata": {},
   "outputs": [],
   "source": [
    "import dask.array as da\n",
    "x = da.random.random((10000,10000), chunks=(1000,1000))\n",
    "y = x+x.T - x.mean(axis=0)\n",
    "y = y.persist()"
   ]
  },
  {
   "cell_type": "code",
   "execution_count": null,
   "id": "72f0c24b-00fb-4898-b11e-270a3062f7b5",
   "metadata": {},
   "outputs": [],
   "source": []
  }
 ],
 "metadata": {
  "kernelspec": {
   "display_name": "Python 3 (ipykernel)",
   "language": "python",
   "name": "python3"
  },
  "language_info": {
   "codemirror_mode": {
    "name": "ipython",
    "version": 3
   },
   "file_extension": ".py",
   "mimetype": "text/x-python",
   "name": "python",
   "nbconvert_exporter": "python",
   "pygments_lexer": "ipython3",
   "version": "3.9.7"
  }
 },
 "nbformat": 4,
 "nbformat_minor": 5
}
