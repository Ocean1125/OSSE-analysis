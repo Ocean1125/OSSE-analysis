{
 "cells": [
  {
   "cell_type": "code",
   "execution_count": null,
   "id": "f8467ef7-0c60-4415-b4ba-09e9a865bc01",
   "metadata": {},
   "outputs": [],
   "source": [
    "cd /g/data/fu5/deg581/OSSE_analysis/notebooks/"
   ]
  },
  {
   "cell_type": "code",
   "execution_count": null,
   "id": "c0863969-fa8d-4912-9ad8-1face917313d",
   "metadata": {},
   "outputs": [],
   "source": [
    "### run my startup script\n",
    "exec(open(\"../src/functions/fun_loadStartup.py\").read())\n",
    "### load my functions\n",
    "exec(open(\"../src/functions/fun_loadMyFunctions.py\").read())\n",
    "\n",
    "%config InlineBackend.figure_format='png'\n"
   ]
  },
  {
   "cell_type": "code",
   "execution_count": null,
   "id": "caf23ead-f83d-4820-a2f2-354d1017c120",
   "metadata": {},
   "outputs": [],
   "source": [
    "# load modules\n",
    "## Data processing and DA modules\n",
    "import numpy as np\n",
    "import scipy.io as sio\n",
    "import matplotlib.pyplot as plt\n",
    "import matplotlib.gridspec as gridspec\n",
    "from mpl_toolkits.axes_grid1.inset_locator import inset_axes, zoomed_inset_axes\n",
    "## Dealing with big data and netcdf\n",
    "import xarray as xr\n",
    "from netCDF4 import Dataset\n",
    "## ROMS packages\n",
    "from xgcm import Grid\n",
    "## color maps\n",
    "import cmaps\n",
    "import cmocean\n",
    "## mapping packages\n",
    "import cartopy.crs as ccrs\n",
    "import cartopy.feature as cfeature\n",
    "## System tools and python configuration\n",
    "import os\n",
    "import glob\n",
    "import repackage\n",
    "repackage.add('../../')\n",
    "repackage.add('../')\n",
    "\n"
   ]
  }
 ],
 "metadata": {
  "kernelspec": {
   "display_name": "Python 3 (ipykernel)",
   "language": "python",
   "name": "python3"
  },
  "language_info": {
   "codemirror_mode": {
    "name": "ipython",
    "version": 3
   },
   "file_extension": ".py",
   "mimetype": "text/x-python",
   "name": "python",
   "nbconvert_exporter": "python",
   "pygments_lexer": "ipython3",
   "version": "3.9.7"
  }
 },
 "nbformat": 4,
 "nbformat_minor": 5
}
