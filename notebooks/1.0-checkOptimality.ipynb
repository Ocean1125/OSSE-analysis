{
 "cells": [
  {
   "cell_type": "code",
   "execution_count": 38,
   "source": [
    "# cd /g/data/fu5/deg581/OSSE_analysis/notebooks/"
   ],
   "outputs": [],
   "metadata": {
    "tags": []
   }
  },
  {
   "cell_type": "code",
   "execution_count": 39,
   "source": [
    "### run my startup script\n",
    "exec(open(\"../src/functions/fun_loadStartup.py\").read())\n",
    "### load my functions\n",
    "exec(open(\"../src/functions/fun_loadMyFunctions.py\").read())\n",
    "\n",
    "%config InlineBackend.figure_format='png'\n",
    "\n",
    "### Load grid\n",
    "grdFile = '../data/raw/EACouter_varres_grd_mergedBLbry_uhroms.nc'\n",
    "grid = loadRomsGrid(grdFile)\n"
   ],
   "outputs": [
    {
     "output_type": "stream",
     "name": "stdout",
     "text": [
      "loaded my modules\n",
      "loaded my own functions\n",
      "loading ROMS grid from ../data/raw/EACouter_varres_grd_mergedBLbry_uhroms.nc\n"
     ]
    }
   ],
   "metadata": {}
  },
  {
   "cell_type": "code",
   "execution_count": 40,
   "source": [
    "### Set file names\n",
    "runningLocation = 'local'\n",
    "if  runningLocation== 'local':\n",
    "    hisOSSEFilePath='../data/raw/OSSE_SSHSST/'\n",
    "    hisTruthFilePath='../data/raw/truth/final/'\n",
    "    obsFinalFilePath='../data/raw/OSSE_SSHSST/' #the 'final' obs files: Verification obs, + NLmodel values from modTruth.\n",
    "    modOSSEFilePath='../data/raw/OSSE_SSHSST/'\n",
    "    # hisPertFilePath='../data/raw/perturbed/'\n",
    "elif runningLocation == 'gdata':\n",
    "    hisOSSEFilePath='/g/data/fu5/eac/OSSEs/OSSE_ssh_sst_is4dvar/output/'\n",
    "    hisTruthFilePath='/g/data/fu5/deg581/EAC_2yr_truthRun_obsVerification/output/' # Truth file settings\n",
    "    obsFinalFilePath='/g/data/fu5/eac/OSSEs/OSSE_ssh_sst_is4dvar/output/'\n",
    "    modOSSEFilePath='/g/data/fu5/eac/OSSEs/OSSE_ssh_sst_is4dvar/output/'\n",
    "#     hisPertFilePath='/g/data/fu5/deg581/EAC_2yr_perturbedRun_final/output/'\n",
    "\n",
    "prefixForecast='roms_fwd_outer0_'\n",
    "prefixAnalysis='roms_fwd_outer1_'\n",
    "prefixTruth='outer_his_'\n",
    "prefixObs='obs_0'\n",
    "prefixMod='eac_mod_'\n",
    "prefixPert='outer_his_'\n",
    "\n",
    "outFigurePath='../cache/out/'"
   ],
   "outputs": [],
   "metadata": {}
  },
  {
   "cell_type": "markdown",
   "source": [
    "### Load functions"
   ],
   "metadata": {}
  },
  {
   "cell_type": "code",
   "execution_count": 41,
   "source": [
    "### function to load overlapping OSSE data\n",
    "def loadOSSE(hisFilePath,prefix,filestring='0*.nc',overlapDays=7):\n",
    "    chunks = {'ocean_time':1}\n",
    "    filelist = glob.glob(hisFilePath+prefix+filestring)\n",
    "\n",
    "    def preprocessRemoveLastDay(ds):\n",
    "        '''remove the last 7 timesteps from each file'''\n",
    "        return ds.isel(ocean_time = slice(0,-overlapDays))\n",
    "\n",
    "#     for files in filelist: \n",
    "#         print(files)\n",
    "    outName = xr.open_mfdataset(filelist,chunks, preprocess=preprocessRemoveLastDay, data_vars='minimal', compat='override', coords='minimal', parallel=True, join='right') \n",
    "    print('loaded from '+filelist[0]+' to '+filelist[-1])\n",
    "    return outName\n",
    "\n",
    "### function to load overlapping OSSE data\n",
    "def loadOverlappedNetcdf(hisFilePath,prefix,filestring='0*.nc',overlapDays=7):\n",
    "    chunks = {'ocean_time':1}\n",
    "    filelist = sorted(glob.glob(hisFilePath+prefix+filestring))\n",
    "\n",
    "    def preprocessRemoveLastDay(ds):\n",
    "        '''remove the last 7 timesteps from each file'''\n",
    "        return ds.isel(ocean_time = slice(0,-overlapDays))\n",
    "\n",
    "    outName = xr.open_mfdataset(filelist,chunks, preprocess=preprocessRemoveLastDay, data_vars='minimal', compat='override', coords='minimal', parallel=True, join='right') \n",
    "    print('loaded from '+filelist[0]+' to '+filelist[-1])\n",
    "    return outName\n",
    "\n",
    "def dropDuplicateTimes(inputData):\n",
    "    _, index = np.unique(inputData['ocean_time'], return_index=True)\n",
    "    out = inputData.isel(ocean_time=index)\n",
    "    return out\n",
    "\n",
    "def calc_rmseSpatial(input1,input2,etaRange,xiRange):\n",
    "    err2 = (input1-input2)**2\n",
    "    # err=err2**(1/2)\n",
    "    mse = indexMeanMetric(err2,etaRange,xiRange) #mean square error MSE\n",
    "    output = mse**(1/2)\n",
    "    return mse,output\n",
    "\n",
    "# define function for calculating spatial mean\n",
    "def indexMeanMetric(input,etaRange,xiRange):\n",
    "    ''' iRange and jRange are converted to slices, so they are the start/end values of the range '''\n",
    "    output = input.isel(eta_rho=slice(etaRange[0],etaRange[1]), xi_rho=slice(xiRange[0],xiRange[1])).mean(dim='eta_rho', skipna=True).mean(dim='xi_rho', skipna=True)\n",
    "    return output\n",
    "\n",
    "def simple_TimeSeries(inputDataX, inputDataY, plt_kwargs={}, ax=None):\n",
    "    #Plotting\n",
    "    if ax is None:\n",
    "        ax = plt.gca()   \n",
    "    hOut = ax.plot(inputDataX, inputDataY, **plt_kwargs)\n",
    "    ax.grid(color='black', alpha=0.2, linestyle='--')\n",
    "    return(hOut)\n",
    "\n",
    "def plot_spatialMapSubplot(toPlotData, ax=None, pcol_kwargs={}, cont_kwargs={}, kde_kwargs={}):\n",
    "    #Plotting\n",
    "    if ax is None:\n",
    "        ax = plt.gca()\n",
    "    # plt.subplot(projection=ccrs.PlateCarree())\n",
    "#     ax = fig.add_subplot(gs[ax], projection=ccrs.PlateCarree())\n",
    "    ax.set_extent([147, 162.5, -42, -25])\n",
    "    feature = ax.add_feature(Coast, edgecolor='black',facecolor='gray')\n",
    "    im=toPlotData.plot.pcolormesh('lon_rho','lat_rho',ax=ax, add_colorbar=False, **pcol_kwargs)       \n",
    "    toPlotData.plot.contour('lon_rho','lat_rho',ax=ax, **cont_kwargs)\n",
    "    gl = ax.gridlines(draw_labels=True,\n",
    "                     color='black', alpha=0.2, linestyle='--')\n",
    "        #gl.xformatter = LONGITUDE_FORMATTER\n",
    "        #gl.yformatter = LATITUDE_FORMATTER\n",
    "    gl.right_labels = False\n",
    "    gl.top_labels = False\n",
    "    cax = inset_axes(ax,\n",
    "                 width=\"5%\",  # width = 10% of parent_bbox width\n",
    "                 height=\"50%\",  # height : 50%\n",
    "                 loc='lower left',\n",
    "                 bbox_to_anchor=(.07,.39, 1, 1),\n",
    "                 bbox_transform=ax.transAxes,\n",
    "                 borderpad=0,\n",
    "                 )\n",
    "    fig.colorbar(im, cax=cax)\n",
    "\n",
    "def plot_spatialMapGSSubplot(toPlotData, ax=None, pcol_kwargs={}, cont_kwargs={}, kde_kwargs={}):\n",
    "    #Plotting\n",
    "    if ax is None:\n",
    "        ax = plt.gca()\n",
    "    # plt.subplot(projection=ccrs.PlateCarree())\n",
    "#     ax = fig.add_subplot(gs[ax], projection=ccrs.PlateCarree())\n",
    "    ax.set_extent([147, 162.5, -42, -25])\n",
    "    feature = ax.add_feature(Coast, edgecolor='black',facecolor='gray')\n",
    "    im=toPlotData.plot.pcolormesh('lon_rho','lat_rho',ax=ax, add_colorbar=False, **pcol_kwargs)       \n",
    "    toPlotData.plot.contour('lon_rho','lat_rho',ax=ax, **cont_kwargs)\n",
    "    gl = ax.gridlines(draw_labels=True,\n",
    "                     color='black', alpha=0.2, linestyle='--')\n",
    "        #gl.xformatter = LONGITUDE_FORMATTER\n",
    "        #gl.yformatter = LATITUDE_FORMATTER\n",
    "    gl.right_labels = False\n",
    "    gl.top_labels = False\n",
    "    cax = inset_axes(ax,\n",
    "                 width=\"5%\",  # width = 10% of parent_bbox width\n",
    "                 height=\"50%\",  # height : 50%\n",
    "                 loc='lower left',\n",
    "                 bbox_to_anchor=(.07,.39, 1, 1),\n",
    "                 bbox_transform=ax.transAxes,\n",
    "                 borderpad=0,\n",
    "                 )\n",
    "    fig.colorbar(im, cax=cax)\n",
    "\n",
    "def calc_boxSpatial(grid,etaRange,xiRange):\n",
    "    pt00lo = grid['lon_rho'].isel(eta_rho=etaRange[0],xi_rho=xiRange[0]).values\n",
    "    pt01lo = grid['lon_rho'].isel(eta_rho=etaRange[0],xi_rho=xiRange[1]).values\n",
    "    pt10lo = grid['lon_rho'].isel(eta_rho=etaRange[1],xi_rho=xiRange[0]).values\n",
    "    pt11lo = grid['lon_rho'].isel(eta_rho=etaRange[1],xi_rho=xiRange[1]).values\n",
    "    pt00la = grid['lat_rho'].isel(eta_rho=etaRange[0],xi_rho=xiRange[0]).values\n",
    "    pt01la = grid['lat_rho'].isel(eta_rho=etaRange[0],xi_rho=xiRange[1]).values\n",
    "    pt10la = grid['lat_rho'].isel(eta_rho=etaRange[1],xi_rho=xiRange[0]).values\n",
    "    pt11la = grid['lat_rho'].isel(eta_rho=etaRange[1],xi_rho=xiRange[1]).values\n",
    "    boxLo = np.array([pt00lo, pt01lo, pt11lo, pt10lo, pt00lo])\n",
    "    boxLa = np.array([pt00la, pt01la, pt11la, pt10la, pt00la])\n",
    "    return boxLo,boxLa\n",
    "\n",
    "def datestring_to_serial_day(datestring,epochY=1990,epochm=1,epochd=1,epochH=0,epochM=0):\n",
    "    import pandas as pd\n",
    "    import datetime\n",
    "    serial_day_timedelta = pd.to_datetime(datestring) - datetime.datetime(epochY,epochm,epochd,epochH,epochM)\n",
    "    corrected_serial_day_number = serial_day_timedelta.days + serial_day_timedelta.seconds/86400\n",
    "    return corrected_serial_day_number\n",
    "\n",
    "\n",
    "def serial_day_to_datestring(day,epochY=1990,epochm=1,epochd=1,epochH=0,epochM=0):\n",
    "    import datetime\n",
    "    corrected_date = datetime.datetime(epochY,epochm,epochd,epochH,epochM) + datetime.timedelta(day)\n",
    "    return corrected_date.strftime(\"%Y-%m-%d %H:%M\")  "
   ],
   "outputs": [],
   "metadata": {
    "scrolled": true
   }
  },
  {
   "cell_type": "markdown",
   "source": [
    "# Now plot results"
   ],
   "metadata": {}
  },
  {
   "cell_type": "code",
   "execution_count": 42,
   "source": [
    "timeRange = [8005, 8021]\n"
   ],
   "outputs": [],
   "metadata": {}
  },
  {
   "cell_type": "code",
   "execution_count": 43,
   "source": [
    "timePeriod = 4  #days\n",
    "timeOutputs = 6 #per day\n",
    "timeOutputMax = 30 #max number of outputs per file (-1)"
   ],
   "outputs": [],
   "metadata": {}
  },
  {
   "cell_type": "code",
   "execution_count": 96,
   "source": [
    "import re\n",
    "\n",
    "datelist = np.array(range(timeRange[0],timeRange[1],4))\n",
    "logFilePath = '../data/raw/OSSE_SSHSST/log.'\n",
    "\n",
    "\n",
    "Optimality=[]\n",
    "timeVec=[]\n",
    "for dates in datelist:\n",
    "    filenameLog = logFilePath+'0'+str(dates)\n",
    "    Search = 'Optimality'\n",
    "\n",
    "    with open(filenameLog) as fin :\n",
    "        lines = fin.readlines()\n",
    "\n",
    "    line_num = []\n",
    "    for k,line in enumerate(lines) :\n",
    "        if line.find( Search ) != -1 :\n",
    "            line_num.append(k)\n",
    "\n",
    "    OptVal = np.zeros(len(line_num))\n",
    "\n",
    "    rr=0\n",
    "    for lineval in line_num:\n",
    "        try: \n",
    "            found = re.search(' =  (.+?)\\n',lines[lineval]).group(1)\n",
    "        except AttributeError:\n",
    "            # search pattern not found at this line?\n",
    "            found = np.nan\n",
    "        OptVal[rr] = found\n",
    "        rr=rr+1\n",
    "    \n",
    "    Optimality.append(OptVal)\n",
    "    timeVec.append(np.ones(len(line_num))*np.nanmean(dates))\n",
    "Optimality = np.array(Optimality)\n",
    "timeVec = np.array(timeVec)"
   ],
   "outputs": [],
   "metadata": {}
  },
  {
   "cell_type": "code",
   "execution_count": 95,
   "source": [
    "\n",
    "fig, ax = plt.subplots(1,figsize=(10,5))\n",
    "ax.plot(timeVec[:,-1],Optimality[:,-1],linestyle='-',marker='o',color=\"C0\",label='Optimality (final loop)')\n",
    "fig.suptitle('Optimality (final loop)')\n",
    "ax.grid()\n"
   ],
   "outputs": [
    {
     "output_type": "display_data",
     "data": {
      "image/png": "[encoded data removed]",
      "text/plain": [
       "<Figure size 720x360 with 1 Axes>"
      ]
     },
     "metadata": {
      "needs_background": "light"
     }
    }
   ],
   "metadata": {}
  }
 ],
 "metadata": {
  "interpreter": {
   "hash": "4b9054c07eafda139509173b6ae30ace99039a70c699ed5a704baf8d9c21115a"
  },
  "kernelspec": {
   "name": "python3",
   "display_name": "Python 3.9.5 64-bit ('devel': conda)"
  },
  "language_info": {
   "codemirror_mode": {
    "name": "ipython",
    "version": 3
   },
   "file_extension": ".py",
   "mimetype": "text/x-python",
   "name": "python",
   "nbconvert_exporter": "python",
   "pygments_lexer": "ipython3",
   "version": "3.9.5"
  }
 },
 "nbformat": 4,
 "nbformat_minor": 4
}